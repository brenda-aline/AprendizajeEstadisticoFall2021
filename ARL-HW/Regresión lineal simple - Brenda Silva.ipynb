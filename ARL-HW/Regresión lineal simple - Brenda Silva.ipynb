{
 "cells": [
  {
   "cell_type": "markdown",
   "metadata": {},
   "source": [
    "# Aprendizaje automático\n",
    "\n",
    "Consideremos que tenemos un conjunto de datos estructurados en una tabla (observaciones en filas y variables en columnas):\n",
    "\n",
    "\\begin{matrix}\n",
    "    \\hline\n",
    "    \\mathbf{X_1} & \\mathbf{X_2} & \\mathbf{X_3} & \\cdots & \\mathbf{X_d} & \\mathbf{Y}\\\\    \n",
    "    \\hline\n",
    "    x_{11} & x_{12} & x_{13} & \\cdots & x_{1d} & y_1\\\\ \n",
    "    x_{21} & x_{22} & x_{23} & \\cdots & x_{2d} & y_2\\\\\n",
    "    \\vdots & \\vdots & \\vdots & \\cdots & \\vdots & \\vdots\\\\\n",
    "    x_{N1} & x_{N2} & x_{N3} & \\cdots & x_{Nd} & y_N\\\\    \n",
    "    \\hline\n",
    "\\end{matrix}\n",
    "\n",
    "Llamamos a las variables $\\mathbf{X_i}$ *características* de cada observación y a la variable $\\mathbf{Y}$ *etiqueta*.\n",
    "\n",
    "Considera los siguientes ejemplos:\n",
    "\n",
    "**Iris**"
   ]
  },
  {
   "cell_type": "code",
   "execution_count": null,
   "metadata": {},
   "outputs": [],
   "source": [
    "head(iris)"
   ]
  },
  {
   "cell_type": "code",
   "execution_count": null,
   "metadata": {},
   "outputs": [],
   "source": [
    "tail(iris)"
   ]
  },
  {
   "cell_type": "code",
   "execution_count": null,
   "metadata": {},
   "outputs": [],
   "source": [
    "# La etiqueta es una variable categórica que tiene tres valores\n",
    "unique(iris$Species)"
   ]
  },
  {
   "cell_type": "markdown",
   "metadata": {},
   "source": [
    "**Titanic**"
   ]
  },
  {
   "cell_type": "code",
   "execution_count": null,
   "metadata": {},
   "outputs": [],
   "source": [
    "titanic <- read.csv(\"https://raw.githubusercontent.com/jbryer/CompStats/master/Data/titanic3.csv\")\n",
    "head(titanic)"
   ]
  },
  {
   "cell_type": "code",
   "execution_count": null,
   "metadata": {},
   "outputs": [],
   "source": [
    "# la etiqueta es una variable binaria que indica si el pasajero sobrevivió o no\n",
    "unique(titanic$survived)"
   ]
  },
  {
   "cell_type": "markdown",
   "metadata": {},
   "source": [
    "**Recursos humanos**"
   ]
  },
  {
   "cell_type": "code",
   "execution_count": null,
   "metadata": {},
   "outputs": [],
   "source": [
    "hr <- read.csv(\"hr.csv\")\n",
    "head(hr) "
   ]
  },
  {
   "cell_type": "code",
   "execution_count": null,
   "metadata": {},
   "outputs": [],
   "source": [
    "str(hr) # índice de satisfacción, evaluación en el proyecto más reciente, número de proyectos (últimos doce meses), total de horas trabajadas (¿periodo?), tiempo en la compañía, el empleado fue padre/madre en el último año "
   ]
  },
  {
   "cell_type": "code",
   "execution_count": null,
   "metadata": {},
   "outputs": [],
   "source": [
    "# La etiqueta es binaria e indica si el empleado abandonó a la compañía"
   ]
  },
  {
   "cell_type": "markdown",
   "metadata": {},
   "source": [
    "**Ventas**"
   ]
  },
  {
   "cell_type": "code",
   "execution_count": null,
   "metadata": {},
   "outputs": [],
   "source": [
    "ventas <- read.csv(\"advertising.csv\")\n",
    "head(ventas)"
   ]
  },
  {
   "cell_type": "markdown",
   "metadata": {},
   "source": [
    "La etiqueta es una variable numérica, continua."
   ]
  },
  {
   "cell_type": "code",
   "execution_count": null,
   "metadata": {},
   "outputs": [],
   "source": [
    "casas <- read.csv(\"kc_house_data.csv\")\n",
    "head(casas)"
   ]
  },
  {
   "cell_type": "markdown",
   "metadata": {},
   "source": [
    "## Objetivo del aprendizaje\n",
    "\n",
    "El objetivo del aprendizaje automático es el de encontrar una función (regla) que permita predecir el valor de la etiqueta de una observación a partir de sus características.\n",
    "\n",
    "Buscamos $$f(\\mathbf{X}_1, \\mathbf{X}_2, \\ldots, \\mathbf{X}_d) = \\mathbf{Y}$$\n",
    "\n",
    "A las características $\\mathbf{X}_i$ también se les llama variables **predictoras**.\n",
    "\n",
    "Distinguimos dos grandes tipos de problemas:\n",
    "\n",
    "1. **Regresión**. Cuando la etiqueta es una variable numérica.\n",
    "2. **Clasificación**. Cuando la etiqueta es categórica.\n",
    "\n",
    "Enfrentar el objetivo del aprendizaje estadístico, de forma general, es una **tarea muy compleja**, por lo que es necesario abordar los problemas de manera gradual.\n"
   ]
  },
  {
   "cell_type": "markdown",
   "metadata": {},
   "source": [
    "# Regresión lineal simple\n",
    "\n",
    "En la regresión lineal simple, suponemos que nuestro conjunto de datos está compuesto por un solo predictor y una etiqueta numérica:\n",
    "\n",
    "\\begin{matrix}\n",
    "    \\hline\n",
    "    \\mathbf{X} & \\mathbf{Y}\\\\    \n",
    "    \\hline\n",
    "    x_{1} & y_1\\\\ \n",
    "    x_{2} & y_2\\\\\n",
    "    \\vdots & \\vdots\\\\\n",
    "    x_{N} & y_N\\\\    \n",
    "    \\hline\n",
    "\\end{matrix}\n",
    "\n",
    "Suponemos que el **modelo** que relaciona a ambas variables es lineal:\n",
    "\n",
    "$$Y = \\alpha_0+\\alpha_1X + \\epsilon$$\n",
    "\n",
    "Siendo $\\epsilon$ una variable aleatoria con distribución normal, con media cero y varianza constante:\n",
    "\n",
    "$$\\epsilon \\sim \\text{N}(0, \\sigma^2),$$\n",
    "\n",
    "$\\sigma^2$ es la varianza. \n",
    "\n",
    "En la siguiente celda, construimos un conjunto de datos bajo este modelo:"
   ]
  },
  {
   "cell_type": "code",
   "execution_count": null,
   "metadata": {},
   "outputs": [],
   "source": [
    "a0 <- 2\n",
    "a1 <- -3.5\n",
    "s <- 0.25\n",
    "\n",
    "x <- runif(100)\n",
    "e <- rnorm(100, 0, s)\n",
    "y <- a0+a1*x+e\n",
    "\n",
    "dat <- data.frame(x=x, y=y)\n",
    "head(dat)"
   ]
  },
  {
   "cell_type": "markdown",
   "metadata": {},
   "source": [
    "Construimos la gráfica de dispersión de las muestras y el modelo lineal"
   ]
  },
  {
   "cell_type": "code",
   "execution_count": null,
   "metadata": {},
   "outputs": [],
   "source": [
    "plot(dat$x, dat$y)\n",
    "abline(a0,a1,col=\"red\")"
   ]
  },
  {
   "cell_type": "markdown",
   "metadata": {},
   "source": [
    "<font color=\"red\">Actividad</font>\n",
    "\n",
    "Modifica los tres parámetros del modelo y reconstruye la gráfica. Describe el papel de cada uno.\n",
    "\n",
    "\\begin{align}\n",
    "    \\alpha_0 &: \\text{ Intersección.}\\\\\n",
    "    \\alpha_1 &: \\text{ Pendiente.}\\\\    \n",
    "    \\sigma &: \\text{ Desviación estándar del ruido.}\n",
    "\\end{align}"
   ]
  },
  {
   "cell_type": "markdown",
   "metadata": {},
   "source": [
    "En la práctica, los parámetors del modelo son desconocidos y debemos estimarlos a partir de las muestras. \n",
    "\n",
    "La estimación se realiza con las siguientes expresiones:\n",
    "\n",
    "\\begin{align}\n",
    "    \\widehat{\\alpha_1} &= \\frac{s_{xy}}{s^2_{x}}\\\\\n",
    "    \\widehat{\\alpha_0} &= \\overline{y}-\\widehat{\\alpha_1}\\overline{x}\\\\\n",
    "\\end{align}\n",
    "\n",
    "siendo $s_{xy}$ la covarianza entre $x$ y $y$, $s^2_{x}$ la varianza de $x$, $\\overline{x}$ la media muestral de $x$. Finalmente, $\\overline{y}$ es la media muestral de la variable $y$.\n",
    "\n",
    "En la siguiente celda estimamos los parámetros para los datos de ejemplo que generamos más arriba."
   ]
  },
  {
   "cell_type": "code",
   "execution_count": null,
   "metadata": {},
   "outputs": [],
   "source": [
    "attach(dat)"
   ]
  },
  {
   "cell_type": "code",
   "execution_count": null,
   "metadata": {},
   "outputs": [],
   "source": [
    "s_xy <- cov(x, y)\n",
    "s2_x <- var(x)\n",
    "\n",
    "a1 <- s_xy/s2_x\n",
    "a1"
   ]
  },
  {
   "cell_type": "code",
   "execution_count": null,
   "metadata": {},
   "outputs": [],
   "source": [
    "mx <- mean(x)\n",
    "my <- mean(y)\n",
    "\n",
    "a0 <- my-mx*a1\n",
    "a0"
   ]
  },
  {
   "cell_type": "markdown",
   "metadata": {},
   "source": [
    "Con estas estimaciones, **construimos el modelo**:\n",
    "\n",
    "$$y=1.97-3.4x$$\n",
    "\n",
    "para explicar la relación entre las variables en el conjunto de muestras que generamos."
   ]
  },
  {
   "cell_type": "markdown",
   "metadata": {},
   "source": [
    "## Predicciones\n",
    "\n",
    "Una vez que estimamos los parámetros del modelo lineal, podemos realizar predicciones para una nueva característica ($x$):\n",
    "\n",
    "$$\\widehat{y} = \\widehat{a_0}+\\widehat{a_1}x$$\n",
    "\n",
    "En nuestro ejemplo, si $x=0.8$, entonces el valor predicho por el modelo es:"
   ]
  },
  {
   "cell_type": "code",
   "execution_count": null,
   "metadata": {},
   "outputs": [],
   "source": [
    "xi <- 0.8 #predicción para un solo valor\n",
    "a0+a1*xi"
   ]
  },
  {
   "cell_type": "code",
   "execution_count": null,
   "metadata": {},
   "outputs": [],
   "source": [
    "# valores predichos sobre el conjunto de datos\n",
    "yp <- a0+a1*x\n",
    "dat$yp <- yp\n",
    "head(dat)"
   ]
  },
  {
   "cell_type": "markdown",
   "metadata": {},
   "source": [
    "# Calidad del ajuste\n",
    "\n",
    "Podemos evaluar la calidad del ajuste revisando las diferencias entre los valores predichos y los valores reales de las muestras disponibles. Para un valor $x_i$ del conjunto de muestras, definimos el error de predicción:\n",
    "\n",
    "$$e_i = y_i-\\widehat{y_i}$$\n"
   ]
  },
  {
   "cell_type": "code",
   "execution_count": null,
   "metadata": {},
   "outputs": [],
   "source": [
    "e <- y-yp # error de predicción (a veces es negativo y a veces positivo)\n",
    "dat$e <- e\n",
    "head(dat)"
   ]
  },
  {
   "cell_type": "markdown",
   "metadata": {},
   "source": [
    "Desde luego, buscamos que el error de predicción sea mínimo y de hecho, se puede demostrar que los estimadores definidos arriba, minimizan la suma de error de predicción (al cuadrado) sobre el total de las muestras.\n",
    "\n",
    "Puedes verificarlo en la siguientes celdas."
   ]
  },
  {
   "cell_type": "code",
   "execution_count": null,
   "metadata": {},
   "outputs": [],
   "source": [
    "sum(e) #la suma de errores siempre será cero (puede demostrarse teóricamente)"
   ]
  },
  {
   "cell_type": "code",
   "execution_count": null,
   "metadata": {},
   "outputs": [],
   "source": [
    "# elevamos los errores al cuadrado para evitar su cancelación en la suma\n",
    "sum(e^2)"
   ]
  },
  {
   "cell_type": "code",
   "execution_count": null,
   "metadata": {},
   "outputs": [],
   "source": [
    "# cualquier otra combinación de parámetros produce una suma de errores al cuadrado mayor\n",
    "#incluso los valores con los que fueron generadas las muestras\n",
    "a0 <- 2\n",
    "a1 <- -3.5\n",
    "\n",
    "yp <- a0+a1*x\n",
    "e <- y-yp # error de predicción\n",
    "sum(e^2)"
   ]
  },
  {
   "cell_type": "markdown",
   "metadata": {},
   "source": [
    "<font color=\"red\">Actividad</font>\n",
    "\n",
    "Evalúa la suma de errores cuadrados para diferentes combinaciones de parámetros y verifica que ninguna combinación tiene una evaluación mayor al de los parámetros estimados con las fórmulas definidas arriba."
   ]
  },
  {
   "cell_type": "markdown",
   "metadata": {},
   "source": [
    "## Coeficiente de determinación\n",
    "\n",
    "Una medida de la calidad del ajuste del modelo construido consiste en la evaluación del coeficiente de determinación:\n",
    "\n",
    "$$R^2 = \\frac{\\sum_i (\\widehat{y}_i-\\overline{y})^2}{\\sum_i(y_i-\\overline{y})^2}$$\n",
    "\n",
    "Este coeficiente está acotado: $R^2\\in [0, 1]$."
   ]
  },
  {
   "cell_type": "code",
   "execution_count": null,
   "metadata": {},
   "outputs": [],
   "source": [
    "# evalúa el coeficiente de determinación para los datos de ejemplo\n"
   ]
  },
  {
   "cell_type": "code",
   "execution_count": null,
   "metadata": {},
   "outputs": [],
   "source": [
    "# ajustar modelo por comando lm"
   ]
  },
  {
   "cell_type": "markdown",
   "metadata": {},
   "source": [
    "<font color=\"red\">Proyecto</font>\n",
    "\n",
    "En este proyecto explorarás la regresión lineal simple para predecir el precio de venta de un inmueble a partir de la superficie construida. \n",
    "\n",
    "1. Construye una tabla de datos a partir del conjunto $\\texttt{kc_house_data.csv}$ que contenga solamente las columnas $\\texttt{sqft_living}$ (predictor) y $\\texttt{price}$ (etiqueta). \n",
    "2. Explora ambas variables. Utiliza medidas estadísticas y gráficas para describir la distribución de valores de cada variable.\n",
    "3. Evalúa medidas de asociación y construye una gráfica de dispersión para explorar una posible relación. Describe los resultados\n",
    "4. Utilizando regresión lineal simple, ajusta un modelo para explicar el precio de venta del inmueble en función de la superficie de la sala (sqft_living). Evalúa la calidad del ajuste a través del coeficiente de determinación.\n",
    "5. Describe las conclusiones y reflexiones que se desprendan de tu análisis."
   ]
  },
  {
   "cell_type": "code",
   "execution_count": null,
   "metadata": {},
   "outputs": [],
   "source": []
  },
  {
   "cell_type": "code",
   "execution_count": null,
   "metadata": {},
   "outputs": [],
   "source": []
  }
 ],
 "metadata": {
  "kernelspec": {
   "display_name": "R",
   "language": "R",
   "name": "ir"
  },
  "language_info": {
   "codemirror_mode": "r",
   "file_extension": ".r",
   "mimetype": "text/x-r-source",
   "name": "R",
   "pygments_lexer": "r",
   "version": "4.0.3"
  }
 },
 "nbformat": 4,
 "nbformat_minor": 4
}
